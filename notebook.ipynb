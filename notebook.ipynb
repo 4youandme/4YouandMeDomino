{
 "cells": [
  {
   "cell_type": "markdown",
   "metadata": {},
   "source": [
    "# Test Notebook\n",
    "## Import libraries"
   ]
  },
  {
   "cell_type": "code",
   "execution_count": null,
   "metadata": {},
   "outputs": [],
   "source": [
    "import numpy as np\n",
    "import pandas as pd\n",
    "import boto3\n",
    "import json\n",
    "import os\n",
    "import ast\n",
    "import csv\n",
    "import io\n",
    "from io import StringIO, BytesIO, TextIOWrapper\n",
    "import gzip\n",
    "from datetime import datetime, date\n",
    "from s3_utils import *\n",
    "import matplotlib.pyplot as plt\n",
    "import seaborn as sns"
   ]
  },
  {
   "cell_type": "code",
   "execution_count": null,
   "metadata": {},
   "outputs": [],
   "source": [
    "import sys\n",
    "sys.executable"
   ]
  },
  {
   "cell_type": "code",
   "execution_count": null,
   "metadata": {},
   "outputs": [],
   "source": [
    "# use whatever python was returned above and install libraries\n",
    "# for some reason this needs to run twice\n",
    "#!/opt/conda/bin/python -m pip install psycopg2-binary boto3"
   ]
  },
  {
   "cell_type": "markdown",
   "metadata": {},
   "source": [
    "## Define s3 bucket and list keys"
   ]
  },
  {
   "cell_type": "code",
   "execution_count": null,
   "metadata": {
    "scrolled": true
   },
   "outputs": [],
   "source": [
    "bucket = '4youandme-study-data' # for SinC project\n",
    "bucket = 'fouryouandme-study-data' # for 4YouandMe, Bump, CamCog or Bodyport project\n",
    "\n",
    "# prefix = {study_name} or {study_name}/{source}\n",
    "# sources: app_activities, bodyport, camcog, garmin, oura, redcap, rescuetime\n",
    "# note camcog not accessible to bodyport (and vice a versa)\n",
    "get_matching_s3_keys(bucket, prefix='bump/oura')"
   ]
  },
  {
   "cell_type": "markdown",
   "metadata": {},
   "source": [
    "## Donwload key into pandas dataframe"
   ]
  },
  {
   "cell_type": "code",
   "execution_count": null,
   "metadata": {},
   "outputs": [],
   "source": [
    "key = 'bump/oura/wave_1/oura_sleep.csv.gz'\n",
    "df = pandas_from_csv_s3(bucket, key=key, compression='gzip')\n",
    "df"
   ]
  },
  {
   "cell_type": "code",
   "execution_count": null,
   "metadata": {},
   "outputs": [],
   "source": [
    "plt.figure(figsize=(12, 3))\n",
    "plt.plot(eval(df.rmssd_5min.values[0]))\n",
    "plt.title('HRV at night')\n",
    "plt.show()"
   ]
  },
  {
   "cell_type": "code",
   "execution_count": null,
   "metadata": {},
   "outputs": [],
   "source": [
    "pdf = df.loc[df.user_id == 28]\n",
    "pdf"
   ]
  },
  {
   "cell_type": "code",
   "execution_count": null,
   "metadata": {},
   "outputs": [],
   "source": [
    "plt.figure(figsize=(12, 3))\n",
    "plt.plot(pdf.hr_average)\n",
    "plt.title('HR over course of study')\n",
    "plt.show()"
   ]
  },
  {
   "cell_type": "markdown",
   "metadata": {},
   "source": [
    "## Download key locally"
   ]
  },
  {
   "cell_type": "code",
   "execution_count": null,
   "metadata": {},
   "outputs": [],
   "source": [
    "key = 'bump/video_diaries/wave_1/video_diaries.zip'\n",
    "download_from_s3(bucket, key, localpath='video_diaries.zip')"
   ]
  }
 ],
 "metadata": {
  "kernelspec": {
   "display_name": "Python 3",
   "language": "python",
   "name": "python3"
  },
  "language_info": {
   "codemirror_mode": {
    "name": "ipython",
    "version": 3
   },
   "file_extension": ".py",
   "mimetype": "text/x-python",
   "name": "python",
   "nbconvert_exporter": "python",
   "pygments_lexer": "ipython3",
   "version": "3.7.6"
  }
 },
 "nbformat": 4,
 "nbformat_minor": 4
}
